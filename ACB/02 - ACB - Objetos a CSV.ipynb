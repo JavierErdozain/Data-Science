{
 "cells": [
  {
   "cell_type": "markdown",
   "metadata": {},
   "source": [
    "# 02 - ACB - Objetos to CSV\n",
    "<hr>\n",
    "Este notebook es continuación de una primera parte \"01 - ACB - WebScraping\".\n",
    "Para poder continuar desde este punto, recuperaremos el objeto pickle creado en dicho notebook.\n",
    "\n",
    "El objetivo de este notebook es darle forma a la estructura de objetos recuperada en el notebook anterior, concretamente, convertiremos nuestra colección de objetos en un fichero CSV.\n",
    "\n",
    "La parte buena de tener una colección de objetos tipados es que puedes crearte el formateador que quieras a tu gusto, con mas o menos campos y ya sin tener que meterte a revisar mas webscraping."
   ]
  },
  {
   "cell_type": "code",
   "execution_count": 2,
   "metadata": {},
   "outputs": [],
   "source": [
    "# Ejecutamos el notebook donde se definen las entidades del webscraping.\n",
    "%run ./ACB_WebScraping_Entidades.ipynb"
   ]
  },
  {
   "cell_type": "code",
   "execution_count": 35,
   "metadata": {},
   "outputs": [],
   "source": [
    "import csv \n",
    "\n",
    "class formateadorInfoPartidoEquipo():\n",
    "    '''\n",
    "    Clase encargada de definir cómo se va a formatear la estructura de objetos objetida.\n",
    "    '''\n",
    "    def toCSV(self, listaInfoPartidoEquipo, fileName):\n",
    "        filas = []\n",
    "        cabeceras = ['Temporada',  'Jornada',   'Equipo',\n",
    "                     'LoV',         'Minutos',   'Puntos',\n",
    "                     'T1',          '%T1',       'T2',\n",
    "                     '%T2',         'T3',        '%T3',\n",
    "                     'T',           'Valoración','Puntos_1C',\n",
    "                     'Puntos_2C',   'Puntos_2C', 'Puntos_3C',\n",
    "                     'Puntos_PR']\n",
    "        for infoPartido in listaInfoPartidoEquipo:\n",
    "            filas.append([\n",
    "                  infoPartido.puntosPorCuarto.temporada, infoPartido.puntosPorCuarto.jornada, infoPartido.puntosPorCuarto.equipo,\n",
    "                  infoPartido.puntosPorCuarto.LoV,       infoPartido.estadisticas.Min,        infoPartido.estadisticas.P,\n",
    "                  infoPartido.estadisticas.T1,           infoPartido.estadisticas.T1x,        infoPartido.estadisticas.T2,\n",
    "                  infoPartido.estadisticas.T2x,          infoPartido.estadisticas.T3,         infoPartido.estadisticas.T3x,\n",
    "                  infoPartido.estadisticas.T,            infoPartido.estadisticas.V,          infoPartido.puntosPorCuarto.c1,\n",
    "                  infoPartido.puntosPorCuarto.c2,        infoPartido.puntosPorCuarto.c3,      infoPartido.puntosPorCuarto.c4,\n",
    "                  infoPartido.puntosPorCuarto.ce]\n",
    "                 )\n",
    "        with open(fileName, 'w', newline='') as f: \n",
    "            write = csv.writer(f)\n",
    "            write.writerow(cabeceras) \n",
    "            write.writerows(filas) "
   ]
  },
  {
   "cell_type": "code",
   "execution_count": 36,
   "metadata": {},
   "outputs": [],
   "source": [
    "formateador = formateadorInfoPartidoEquipo()"
   ]
  },
  {
   "cell_type": "code",
   "execution_count": 37,
   "metadata": {},
   "outputs": [
    {
     "ename": "FileNotFoundError",
     "evalue": "[Errno 2] No such file or directory: 'pickle/infoEstadisticasACB_2008.pickle'",
     "output_type": "error",
     "traceback": [
      "\u001b[1;31m---------------------------------------------------------------------------\u001b[0m",
      "\u001b[1;31mFileNotFoundError\u001b[0m                         Traceback (most recent call last)",
      "\u001b[1;32m<ipython-input-37-f2a9d1c87946>\u001b[0m in \u001b[0;36m<module>\u001b[1;34m()\u001b[0m\n\u001b[0;32m     10\u001b[0m \u001b[1;33m\u001b[0m\u001b[0m\n\u001b[0;32m     11\u001b[0m \u001b[1;32mfor\u001b[0m \u001b[0mpkl\u001b[0m \u001b[1;32min\u001b[0m \u001b[0mficheros_pkl\u001b[0m\u001b[1;33m:\u001b[0m\u001b[1;33m\u001b[0m\u001b[0m\n\u001b[1;32m---> 12\u001b[1;33m     \u001b[1;32mwith\u001b[0m \u001b[0mopen\u001b[0m\u001b[1;33m(\u001b[0m\u001b[1;34m'pickle/'\u001b[0m \u001b[1;33m+\u001b[0m \u001b[0mpkl\u001b[0m \u001b[1;33m+\u001b[0m \u001b[1;34m'.pickle'\u001b[0m\u001b[1;33m,\u001b[0m \u001b[1;34m'rb'\u001b[0m\u001b[1;33m)\u001b[0m \u001b[1;32mas\u001b[0m \u001b[0mf\u001b[0m\u001b[1;33m:\u001b[0m\u001b[1;33m\u001b[0m\u001b[0m\n\u001b[0m\u001b[0;32m     13\u001b[0m         \u001b[0minfoPartidos\u001b[0m \u001b[1;33m=\u001b[0m \u001b[0mpickle\u001b[0m\u001b[1;33m.\u001b[0m\u001b[0mload\u001b[0m\u001b[1;33m(\u001b[0m\u001b[0mf\u001b[0m\u001b[1;33m)\u001b[0m\u001b[1;33m\u001b[0m\u001b[0m\n\u001b[0;32m     14\u001b[0m         \u001b[0mf\u001b[0m\u001b[1;33m.\u001b[0m\u001b[0mclose\u001b[0m\u001b[1;33m(\u001b[0m\u001b[1;33m)\u001b[0m\u001b[1;33m\u001b[0m\u001b[0m\n",
      "\u001b[1;31mFileNotFoundError\u001b[0m: [Errno 2] No such file or directory: 'pickle/infoEstadisticasACB_2008.pickle'"
     ]
    }
   ],
   "source": [
    "import pickle\n",
    "\n",
    "ficheros_pkl = ['infoEstadisticasACB_2000', 'infoEstadisticasACB_2001', 'infoEstadisticasACB_2002',\n",
    "                'infoEstadisticasACB_2003', 'infoEstadisticasACB_2004', 'infoEstadisticasACB_2005',\n",
    "                'infoEstadisticasACB_2006', 'infoEstadisticasACB_2007', 'infoEstadisticasACB_2008',\n",
    "                'infoEstadisticasACB_2009', 'infoEstadisticasACB_2010', 'infoEstadisticasACB_2011',\n",
    "                'infoEstadisticasACB_2012', 'infoEstadisticasACB_2013', 'infoEstadisticasACB_2014',\n",
    "                'infoEstadisticasACB_2015', 'infoEstadisticasACB_2016', 'infoEstadisticasACB_2017',\n",
    "                'infoEstadisticasACB_2018', 'infoEstadisticasACB_2019', 'infoEstadisticasACB_2020']\n",
    "\n",
    "for pkl in ficheros_pkl:\n",
    "    with open('pickle/' + pkl + '.pickle', 'rb') as f:     \n",
    "        infoPartidos = pickle.load(f)\n",
    "        f.close()\n",
    "    formateador.toCSV(infoPartidos,'csv/' + pkl + '.csv')"
   ]
  },
  {
   "cell_type": "markdown",
   "metadata": {},
   "source": [
    "En el siguente notebook empezaremos a anlizar los datos."
   ]
  }
 ],
 "metadata": {
  "kernelspec": {
   "display_name": "Python 3",
   "language": "python",
   "name": "python3"
  },
  "language_info": {
   "codemirror_mode": {
    "name": "ipython",
    "version": 3
   },
   "file_extension": ".py",
   "mimetype": "text/x-python",
   "name": "python",
   "nbconvert_exporter": "python",
   "pygments_lexer": "ipython3",
   "version": "3.7.0"
  }
 },
 "nbformat": 4,
 "nbformat_minor": 2
}
