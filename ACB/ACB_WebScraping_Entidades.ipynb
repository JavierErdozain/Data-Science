{
 "cells": [
  {
   "cell_type": "markdown",
   "metadata": {},
   "source": [
    "# ACB - WebScraping - Entidades.\n",
    "<hr>\n",
    "Este notebook contiene la definición de los objetos que utilizaremos a la hora de hacer webscraping.\n",
    "\n",
    "El motivo por el cual está en otro notebook es que así lo podemos usar en distintos notebook sin tener que duplicar las celdas."
   ]
  },
  {
   "cell_type": "code",
   "execution_count": 3,
   "metadata": {},
   "outputs": [],
   "source": [
    "# Entidades.\n",
    "# Clases que definen la estructura de cómo voy a devolver la información.\n",
    "\n",
    "class PuntosEquipoPorCuarto():\n",
    "    '''\n",
    "    Define cuantos puntos por cuarto ha anotado un equipo en una jornada.\n",
    "    '''\n",
    "    def __init__(self, temporada, jornada, equipo, LoV, c1, c2, c3, c4, ce):\n",
    "        self.temporada = temporada;        self.jornada = jornada;        self.equipo = equipo;\n",
    "        self.LoV = LoV;                    self.c1=c1;                    self.c2=c2;        \n",
    "        self.c3=c3;                        self.c4=c4;                    self.ce=ce;\n",
    "                \n",
    "    \n",
    "class EstadisticasEquipo():\n",
    "    '''\n",
    "    Define los datos estadísiticos de un equipo en un partido.\n",
    "    De momento solo he recuperado los datos de acierto en tiros de 1, 2 y 3 puntos, así como la valoración final del equipo.\n",
    "    '''\n",
    "    def __init__(self, temporada, jornada, equipo,\n",
    "                 Min,P,T2,T2x,T3,T3x,T1,T1x,T,V):        \n",
    "        self.temporada=temporada;        self.jornada=jornada;        self.equipo =equipo;\n",
    "        self.Min=Min;                    self.P=P;                    self.T2=T2;\n",
    "        self.T2x=T2x;                    self.T3=T3;                  self.T3x=T3x;\n",
    "        self.T1=T1;                      self.T1x=T1x;                self.T=T;        \n",
    "        self.V=V\n",
    "        \n",
    "class InfoPartidoEquipo():\n",
    "    '''\n",
    "    Clase principal de cada equipo en cada jornada.\n",
    "    Devuelve:\n",
    "        *) Puntos: resumen de puntos anotados por cuarto.\n",
    "        *) Estadísticas: datos resumen del partido.    \n",
    "    '''\n",
    "    def __init__(self,puntosPorCuarto, estadisticas):\n",
    "        self.puntosPorCuarto= puntosPorCuarto\n",
    "        self.estadisticas=estadisticas        \n",
    "        "
   ]
  },
  {
   "cell_type": "code",
   "execution_count": null,
   "metadata": {},
   "outputs": [],
   "source": []
  }
 ],
 "metadata": {
  "kernelspec": {
   "display_name": "Python 3",
   "language": "python",
   "name": "python3"
  },
  "language_info": {
   "codemirror_mode": {
    "name": "ipython",
    "version": 3
   },
   "file_extension": ".py",
   "mimetype": "text/x-python",
   "name": "python",
   "nbconvert_exporter": "python",
   "pygments_lexer": "ipython3",
   "version": "3.7.0"
  }
 },
 "nbformat": 4,
 "nbformat_minor": 2
}
